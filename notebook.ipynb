{
 "cells": [
  {
   "cell_type": "markdown",
   "metadata": {
    "id": "Y4TELjM8FtD-"
   },
   "source": [
    "###**Skincare Recommendation**"
   ]
  },
  {
   "cell_type": "markdown",
   "metadata": {
    "id": "n-NqfYdoFzfN"
   },
   "source": [
    "Produk Skincare merupakan salah satu produk populer yang banyak digunakan oleh masyarakat dunia. Seiring berkembangnya produk skincare, semakin banyak juga jenis dan varian skincare yang dapat dipilih oleh konsumen. Namun terkadang, banyaknya pilihan ini membuat konsumen kesulitan dalam memilih produk yang paling cocok bagi mereka.\n",
    "\n",
    "\n",
    "Salah satu hal yang dapat menjadi solusi permasalahan ini adalah sebuah sistem temu kembali informasi (information retrieval) produk skincare yang dapat memfilter hasil pencarian dengan baik dan akurat berdasarkan keywords dan query yang dimasukan konsumen. Sistem temu kembali tersebut harus dapat membedakan setiap produk skincare berdasarkan tipe, komposisi atau bahan-bahan yang digunakan, serta deskripsi produk untuk dapat menghasilkan hasil pencarian yang akurat.\n",
    "\n",
    "Sistem ini dirancang untuk merekomendasikan skincare berdasarkan informasi berupa tipe produk, komposisi atau ingredient produk, serta harga dari produk tersebut."
   ]
  },
  {
   "cell_type": "markdown",
   "metadata": {
    "id": "pRvgXCbFFhNV"
   },
   "source": [
    "####**Menyiapkan Data**"
   ]
  },
  {
   "cell_type": "code",
   "execution_count": null,
   "metadata": {
    "colab": {
     "base_uri": "https://localhost:8080/"
    },
    "id": "F3Jx56YAFJKH",
    "outputId": "2a96578b-fe90-48f9-f798-9acc2ac875e9"
   },
   "outputs": [],
   "source": [
    "import pandas as pd\n",
    "import numpy as np\n",
    "import nltk\n",
    "from nltk.corpus import stopwords\n",
    "from nltk.tokenize import word_tokenize\n",
    "import string\n",
    "import re\n",
    "from scipy.sparse import hstack\n",
    "\n",
    "nltk.download('punkt')\n",
    "nltk.download('stopwords')"
   ]
  },
  {
   "cell_type": "code",
   "execution_count": 18,
   "metadata": {
    "colab": {
     "base_uri": "https://localhost:8080/",
     "height": 349
    },
    "id": "qUZAjGnPLKgW",
    "outputId": "5d7e5a85-2f3c-4827-eaac-9010ac620dc3"
   },
   "outputs": [
    {
     "data": {
      "text/html": [
       "<div>\n",
       "<style scoped>\n",
       "    .dataframe tbody tr th:only-of-type {\n",
       "        vertical-align: middle;\n",
       "    }\n",
       "\n",
       "    .dataframe tbody tr th {\n",
       "        vertical-align: top;\n",
       "    }\n",
       "\n",
       "    .dataframe thead th {\n",
       "        text-align: right;\n",
       "    }\n",
       "</style>\n",
       "<table border=\"1\" class=\"dataframe\">\n",
       "  <thead>\n",
       "    <tr style=\"text-align: right;\">\n",
       "      <th></th>\n",
       "      <th>product_name</th>\n",
       "      <th>product_url</th>\n",
       "      <th>product_type</th>\n",
       "      <th>clean_ingreds</th>\n",
       "      <th>price</th>\n",
       "    </tr>\n",
       "  </thead>\n",
       "  <tbody>\n",
       "    <tr>\n",
       "      <th>0</th>\n",
       "      <td>The Ordinary Natural Moisturising Factors + HA...</td>\n",
       "      <td>https://www.lookfantastic.com/the-ordinary-nat...</td>\n",
       "      <td>Moisturiser</td>\n",
       "      <td>['capric triglyceride', 'cetyl alcohol', 'prop...</td>\n",
       "      <td>£5.20</td>\n",
       "    </tr>\n",
       "    <tr>\n",
       "      <th>1</th>\n",
       "      <td>CeraVe Facial Moisturising Lotion SPF 25 52ml</td>\n",
       "      <td>https://www.lookfantastic.com/cerave-facial-mo...</td>\n",
       "      <td>Moisturiser</td>\n",
       "      <td>['homosalate', 'glycerin', 'octocrylene', 'eth...</td>\n",
       "      <td>£13.00</td>\n",
       "    </tr>\n",
       "    <tr>\n",
       "      <th>2</th>\n",
       "      <td>The Ordinary Hyaluronic Acid 2% + B5 Hydration...</td>\n",
       "      <td>https://www.lookfantastic.com/the-ordinary-hya...</td>\n",
       "      <td>Moisturiser</td>\n",
       "      <td>['sodium hyaluronate', 'sodium hyaluronate', '...</td>\n",
       "      <td>£6.20</td>\n",
       "    </tr>\n",
       "    <tr>\n",
       "      <th>3</th>\n",
       "      <td>AMELIORATE Transforming Body Lotion 200ml</td>\n",
       "      <td>https://www.lookfantastic.com/ameliorate-trans...</td>\n",
       "      <td>Moisturiser</td>\n",
       "      <td>['ammonium lactate', 'c12-15', 'glycerin', 'pr...</td>\n",
       "      <td>£22.50</td>\n",
       "    </tr>\n",
       "    <tr>\n",
       "      <th>4</th>\n",
       "      <td>CeraVe Moisturising Cream 454g</td>\n",
       "      <td>https://www.lookfantastic.com/cerave-moisturis...</td>\n",
       "      <td>Moisturiser</td>\n",
       "      <td>['glycerin', 'cetearyl alcohol', 'capric trigl...</td>\n",
       "      <td>£16.00</td>\n",
       "    </tr>\n",
       "  </tbody>\n",
       "</table>\n",
       "</div>"
      ],
      "text/plain": [
       "                                        product_name  \\\n",
       "0  The Ordinary Natural Moisturising Factors + HA...   \n",
       "1      CeraVe Facial Moisturising Lotion SPF 25 52ml   \n",
       "2  The Ordinary Hyaluronic Acid 2% + B5 Hydration...   \n",
       "3          AMELIORATE Transforming Body Lotion 200ml   \n",
       "4                     CeraVe Moisturising Cream 454g   \n",
       "\n",
       "                                         product_url product_type  \\\n",
       "0  https://www.lookfantastic.com/the-ordinary-nat...  Moisturiser   \n",
       "1  https://www.lookfantastic.com/cerave-facial-mo...  Moisturiser   \n",
       "2  https://www.lookfantastic.com/the-ordinary-hya...  Moisturiser   \n",
       "3  https://www.lookfantastic.com/ameliorate-trans...  Moisturiser   \n",
       "4  https://www.lookfantastic.com/cerave-moisturis...  Moisturiser   \n",
       "\n",
       "                                       clean_ingreds   price  \n",
       "0  ['capric triglyceride', 'cetyl alcohol', 'prop...   £5.20  \n",
       "1  ['homosalate', 'glycerin', 'octocrylene', 'eth...  £13.00  \n",
       "2  ['sodium hyaluronate', 'sodium hyaluronate', '...   £6.20  \n",
       "3  ['ammonium lactate', 'c12-15', 'glycerin', 'pr...  £22.50  \n",
       "4  ['glycerin', 'cetearyl alcohol', 'capric trigl...  £16.00  "
      ]
     },
     "execution_count": 18,
     "metadata": {},
     "output_type": "execute_result"
    }
   ],
   "source": [
    "# Load dataset\n",
    "df = pd.read_csv('skincare_products_clean.csv')\n",
    "df.head()"
   ]
  },
  {
   "cell_type": "markdown",
   "metadata": {
    "id": "J2JZ-n17GYA8"
   },
   "source": [
    "**Menghapus data 'product_url' dan 'price'**"
   ]
  },
  {
   "cell_type": "code",
   "execution_count": 19,
   "metadata": {
    "colab": {
     "base_uri": "https://localhost:8080/",
     "height": 206
    },
    "id": "qfGoV2V2LSo9",
    "outputId": "cda524dc-4afa-4f7d-ca55-5c1b717c8db2"
   },
   "outputs": [
    {
     "data": {
      "text/html": [
       "<div>\n",
       "<style scoped>\n",
       "    .dataframe tbody tr th:only-of-type {\n",
       "        vertical-align: middle;\n",
       "    }\n",
       "\n",
       "    .dataframe tbody tr th {\n",
       "        vertical-align: top;\n",
       "    }\n",
       "\n",
       "    .dataframe thead th {\n",
       "        text-align: right;\n",
       "    }\n",
       "</style>\n",
       "<table border=\"1\" class=\"dataframe\">\n",
       "  <thead>\n",
       "    <tr style=\"text-align: right;\">\n",
       "      <th></th>\n",
       "      <th>product_name</th>\n",
       "      <th>product_type</th>\n",
       "      <th>clean_ingreds</th>\n",
       "    </tr>\n",
       "  </thead>\n",
       "  <tbody>\n",
       "    <tr>\n",
       "      <th>0</th>\n",
       "      <td>The Ordinary Natural Moisturising Factors + HA...</td>\n",
       "      <td>Moisturiser</td>\n",
       "      <td>['capric triglyceride', 'cetyl alcohol', 'prop...</td>\n",
       "    </tr>\n",
       "    <tr>\n",
       "      <th>1</th>\n",
       "      <td>CeraVe Facial Moisturising Lotion SPF 25 52ml</td>\n",
       "      <td>Moisturiser</td>\n",
       "      <td>['homosalate', 'glycerin', 'octocrylene', 'eth...</td>\n",
       "    </tr>\n",
       "    <tr>\n",
       "      <th>2</th>\n",
       "      <td>The Ordinary Hyaluronic Acid 2% + B5 Hydration...</td>\n",
       "      <td>Moisturiser</td>\n",
       "      <td>['sodium hyaluronate', 'sodium hyaluronate', '...</td>\n",
       "    </tr>\n",
       "    <tr>\n",
       "      <th>3</th>\n",
       "      <td>AMELIORATE Transforming Body Lotion 200ml</td>\n",
       "      <td>Moisturiser</td>\n",
       "      <td>['ammonium lactate', 'c12-15', 'glycerin', 'pr...</td>\n",
       "    </tr>\n",
       "    <tr>\n",
       "      <th>4</th>\n",
       "      <td>CeraVe Moisturising Cream 454g</td>\n",
       "      <td>Moisturiser</td>\n",
       "      <td>['glycerin', 'cetearyl alcohol', 'capric trigl...</td>\n",
       "    </tr>\n",
       "  </tbody>\n",
       "</table>\n",
       "</div>"
      ],
      "text/plain": [
       "                                        product_name product_type  \\\n",
       "0  The Ordinary Natural Moisturising Factors + HA...  Moisturiser   \n",
       "1      CeraVe Facial Moisturising Lotion SPF 25 52ml  Moisturiser   \n",
       "2  The Ordinary Hyaluronic Acid 2% + B5 Hydration...  Moisturiser   \n",
       "3          AMELIORATE Transforming Body Lotion 200ml  Moisturiser   \n",
       "4                     CeraVe Moisturising Cream 454g  Moisturiser   \n",
       "\n",
       "                                       clean_ingreds  \n",
       "0  ['capric triglyceride', 'cetyl alcohol', 'prop...  \n",
       "1  ['homosalate', 'glycerin', 'octocrylene', 'eth...  \n",
       "2  ['sodium hyaluronate', 'sodium hyaluronate', '...  \n",
       "3  ['ammonium lactate', 'c12-15', 'glycerin', 'pr...  \n",
       "4  ['glycerin', 'cetearyl alcohol', 'capric trigl...  "
      ]
     },
     "execution_count": 19,
     "metadata": {},
     "output_type": "execute_result"
    }
   ],
   "source": [
    "df = df.drop(columns=['product_url', 'price'])\n",
    "df.head()"
   ]
  },
  {
   "cell_type": "code",
   "execution_count": 20,
   "metadata": {
    "colab": {
     "base_uri": "https://localhost:8080/",
     "height": 241
    },
    "id": "vCNiYh7KBuEL",
    "outputId": "3dc30949-2f9f-48f8-c568-b5efe75e7fc1"
   },
   "outputs": [
    {
     "data": {
      "text/plain": [
       "0    The Ordinary Natural Moisturising Factors + HA...\n",
       "1    CeraVe Facial Moisturising Lotion SPF 25 52ml ...\n",
       "2    The Ordinary Hyaluronic Acid 2% + B5 Hydration...\n",
       "3    AMELIORATE Transforming Body Lotion 200ml Mois...\n",
       "4    CeraVe Moisturising Cream 454g Moisturiser ['g...\n",
       "dtype: object"
      ]
     },
     "execution_count": 20,
     "metadata": {},
     "output_type": "execute_result"
    }
   ],
   "source": [
    "combined_df = df.astype(str).agg(' '.join, axis=1)\n",
    "combined_df.head()"
   ]
  },
  {
   "cell_type": "markdown",
   "metadata": {
    "id": "W22oUxU1GgQT"
   },
   "source": [
    "**Menghapus stopword**"
   ]
  },
  {
   "cell_type": "code",
   "execution_count": 21,
   "metadata": {
    "id": "TlfknN7DOaaA"
   },
   "outputs": [],
   "source": [
    "stop_words = set(stopwords.words('english'))\n",
    "\n",
    "def remove_stopwords(text):\n",
    "    # Tokenisasi\n",
    "    words = word_tokenize(text.lower())  # Tokenisasi dan ubah ke huruf kecil\n",
    "    # Hapus stop words\n",
    "    filtered_words = [word for word in words if word not in stop_words]\n",
    "    return ' '.join(filtered_words)"
   ]
  },
  {
   "cell_type": "code",
   "execution_count": 22,
   "metadata": {
    "colab": {
     "base_uri": "https://localhost:8080/",
     "height": 241
    },
    "id": "yo5OxO6DRWtw",
    "outputId": "b4b86556-1a6c-4b4e-c5e4-300a75fb7de6"
   },
   "outputs": [
    {
     "data": {
      "text/plain": [
       "0    ordinary natural moisturising factors + ha 30m...\n",
       "1    cerave facial moisturising lotion spf 25 52ml ...\n",
       "2    ordinary hyaluronic acid 2 % + b5 hydration su...\n",
       "3    ameliorate transforming body lotion 200ml mois...\n",
       "4    cerave moisturising cream 454g moisturiser [ '...\n",
       "dtype: object"
      ]
     },
     "execution_count": 22,
     "metadata": {},
     "output_type": "execute_result"
    }
   ],
   "source": [
    "removed_stopword = combined_df.apply(remove_stopwords)\n",
    "removed_stopword.head()"
   ]
  },
  {
   "cell_type": "markdown",
   "metadata": {
    "id": "8YikmtcSGmkd"
   },
   "source": [
    "**Tokenisasi Data**"
   ]
  },
  {
   "cell_type": "code",
   "execution_count": 23,
   "metadata": {
    "colab": {
     "base_uri": "https://localhost:8080/",
     "height": 241
    },
    "id": "O6il7slhNJ4n",
    "outputId": "aeca46a9-246a-448d-9a52-ebd740f1d1dd"
   },
   "outputs": [
    {
     "data": {
      "text/plain": [
       "0    [ordinary, natural, moisturising, factors, +, ...\n",
       "1    [cerave, facial, moisturising, lotion, spf, 25...\n",
       "2    [ordinary, hyaluronic, acid, 2, %, +, b5, hydr...\n",
       "3    [ameliorate, transforming, body, lotion, 200ml...\n",
       "4    [cerave, moisturising, cream, 454g, moisturise...\n",
       "dtype: object"
      ]
     },
     "execution_count": 23,
     "metadata": {},
     "output_type": "execute_result"
    }
   ],
   "source": [
    "tokenized_data = removed_stopword.apply(word_tokenize)\n",
    "\n",
    "# Tampilkan hasil tokenisasi\n",
    "tokenized_data.head()"
   ]
  },
  {
   "cell_type": "code",
   "execution_count": 24,
   "metadata": {
    "id": "2Ue47NXUEZVQ"
   },
   "outputs": [],
   "source": [
    "tokenized_data = tokenized_data.astype(str)"
   ]
  },
  {
   "cell_type": "markdown",
   "metadata": {
    "id": "ARYXyGFDGqGn"
   },
   "source": [
    "###**Menerapkan teknik indexing**"
   ]
  },
  {
   "cell_type": "code",
   "execution_count": 25,
   "metadata": {
    "id": "nhMCJBW7DBW8"
   },
   "outputs": [],
   "source": [
    "from sklearn.feature_extraction.text import TfidfVectorizer\n",
    "\n",
    "dataset = tokenized_data.tolist()\n",
    "vectorizer = TfidfVectorizer()\n",
    "vectors = vectorizer.fit_transform(tokenized_data)\n",
    "dict(zip(vectorizer.get_feature_names_out(), vectors.toarray()[0]))\n",
    "\n",
    "tfidf_df = pd.DataFrame(\n",
    "    vectors.toarray(), columns=vectorizer.get_feature_names_out()\n",
    ")"
   ]
  },
  {
   "cell_type": "code",
   "execution_count": 26,
   "metadata": {
    "colab": {
     "base_uri": "https://localhost:8080/",
     "height": 255
    },
    "id": "rj5sSyvJFk7h",
    "outputId": "2a0b5bec-f69d-4324-e2c6-8c33e1a9fddf"
   },
   "outputs": [
    {
     "data": {
      "text/html": [
       "<div>\n",
       "<style scoped>\n",
       "    .dataframe tbody tr th:only-of-type {\n",
       "        vertical-align: middle;\n",
       "    }\n",
       "\n",
       "    .dataframe tbody tr th {\n",
       "        vertical-align: top;\n",
       "    }\n",
       "\n",
       "    .dataframe thead th {\n",
       "        text-align: right;\n",
       "    }\n",
       "</style>\n",
       "<table border=\"1\" class=\"dataframe\">\n",
       "  <thead>\n",
       "    <tr style=\"text-align: right;\">\n",
       "      <th></th>\n",
       "      <th>000iu</th>\n",
       "      <th>069</th>\n",
       "      <th>090</th>\n",
       "      <th>094</th>\n",
       "      <th>10</th>\n",
       "      <th>100</th>\n",
       "      <th>1000</th>\n",
       "      <th>100g</th>\n",
       "      <th>100ml</th>\n",
       "      <th>101</th>\n",
       "      <th>...</th>\n",
       "      <th>zealand</th>\n",
       "      <th>zelens</th>\n",
       "      <th>zeolite</th>\n",
       "      <th>zeylanicum</th>\n",
       "      <th>zinc</th>\n",
       "      <th>zingiber</th>\n",
       "      <th>zizanioides</th>\n",
       "      <th>zizanoides</th>\n",
       "      <th>zizyphus</th>\n",
       "      <th>zone</th>\n",
       "    </tr>\n",
       "  </thead>\n",
       "  <tbody>\n",
       "    <tr>\n",
       "      <th>0</th>\n",
       "      <td>0.0</td>\n",
       "      <td>0.0</td>\n",
       "      <td>0.0</td>\n",
       "      <td>0.0</td>\n",
       "      <td>0.0</td>\n",
       "      <td>0.000000</td>\n",
       "      <td>0.0</td>\n",
       "      <td>0.0</td>\n",
       "      <td>0.0</td>\n",
       "      <td>0.0</td>\n",
       "      <td>...</td>\n",
       "      <td>0.0</td>\n",
       "      <td>0.0</td>\n",
       "      <td>0.0</td>\n",
       "      <td>0.0</td>\n",
       "      <td>0.0</td>\n",
       "      <td>0.0</td>\n",
       "      <td>0.0</td>\n",
       "      <td>0.0</td>\n",
       "      <td>0.0</td>\n",
       "      <td>0.0</td>\n",
       "    </tr>\n",
       "    <tr>\n",
       "      <th>1</th>\n",
       "      <td>0.0</td>\n",
       "      <td>0.0</td>\n",
       "      <td>0.0</td>\n",
       "      <td>0.0</td>\n",
       "      <td>0.0</td>\n",
       "      <td>0.111098</td>\n",
       "      <td>0.0</td>\n",
       "      <td>0.0</td>\n",
       "      <td>0.0</td>\n",
       "      <td>0.0</td>\n",
       "      <td>...</td>\n",
       "      <td>0.0</td>\n",
       "      <td>0.0</td>\n",
       "      <td>0.0</td>\n",
       "      <td>0.0</td>\n",
       "      <td>0.0</td>\n",
       "      <td>0.0</td>\n",
       "      <td>0.0</td>\n",
       "      <td>0.0</td>\n",
       "      <td>0.0</td>\n",
       "      <td>0.0</td>\n",
       "    </tr>\n",
       "    <tr>\n",
       "      <th>2</th>\n",
       "      <td>0.0</td>\n",
       "      <td>0.0</td>\n",
       "      <td>0.0</td>\n",
       "      <td>0.0</td>\n",
       "      <td>0.0</td>\n",
       "      <td>0.000000</td>\n",
       "      <td>0.0</td>\n",
       "      <td>0.0</td>\n",
       "      <td>0.0</td>\n",
       "      <td>0.0</td>\n",
       "      <td>...</td>\n",
       "      <td>0.0</td>\n",
       "      <td>0.0</td>\n",
       "      <td>0.0</td>\n",
       "      <td>0.0</td>\n",
       "      <td>0.0</td>\n",
       "      <td>0.0</td>\n",
       "      <td>0.0</td>\n",
       "      <td>0.0</td>\n",
       "      <td>0.0</td>\n",
       "      <td>0.0</td>\n",
       "    </tr>\n",
       "    <tr>\n",
       "      <th>3</th>\n",
       "      <td>0.0</td>\n",
       "      <td>0.0</td>\n",
       "      <td>0.0</td>\n",
       "      <td>0.0</td>\n",
       "      <td>0.0</td>\n",
       "      <td>0.116991</td>\n",
       "      <td>0.0</td>\n",
       "      <td>0.0</td>\n",
       "      <td>0.0</td>\n",
       "      <td>0.0</td>\n",
       "      <td>...</td>\n",
       "      <td>0.0</td>\n",
       "      <td>0.0</td>\n",
       "      <td>0.0</td>\n",
       "      <td>0.0</td>\n",
       "      <td>0.0</td>\n",
       "      <td>0.0</td>\n",
       "      <td>0.0</td>\n",
       "      <td>0.0</td>\n",
       "      <td>0.0</td>\n",
       "      <td>0.0</td>\n",
       "    </tr>\n",
       "    <tr>\n",
       "      <th>4</th>\n",
       "      <td>0.0</td>\n",
       "      <td>0.0</td>\n",
       "      <td>0.0</td>\n",
       "      <td>0.0</td>\n",
       "      <td>0.0</td>\n",
       "      <td>0.000000</td>\n",
       "      <td>0.0</td>\n",
       "      <td>0.0</td>\n",
       "      <td>0.0</td>\n",
       "      <td>0.0</td>\n",
       "      <td>...</td>\n",
       "      <td>0.0</td>\n",
       "      <td>0.0</td>\n",
       "      <td>0.0</td>\n",
       "      <td>0.0</td>\n",
       "      <td>0.0</td>\n",
       "      <td>0.0</td>\n",
       "      <td>0.0</td>\n",
       "      <td>0.0</td>\n",
       "      <td>0.0</td>\n",
       "      <td>0.0</td>\n",
       "    </tr>\n",
       "  </tbody>\n",
       "</table>\n",
       "<p>5 rows × 3713 columns</p>\n",
       "</div>"
      ],
      "text/plain": [
       "   000iu  069  090  094   10       100  1000  100g  100ml  101  ...  zealand  \\\n",
       "0    0.0  0.0  0.0  0.0  0.0  0.000000   0.0   0.0    0.0  0.0  ...      0.0   \n",
       "1    0.0  0.0  0.0  0.0  0.0  0.111098   0.0   0.0    0.0  0.0  ...      0.0   \n",
       "2    0.0  0.0  0.0  0.0  0.0  0.000000   0.0   0.0    0.0  0.0  ...      0.0   \n",
       "3    0.0  0.0  0.0  0.0  0.0  0.116991   0.0   0.0    0.0  0.0  ...      0.0   \n",
       "4    0.0  0.0  0.0  0.0  0.0  0.000000   0.0   0.0    0.0  0.0  ...      0.0   \n",
       "\n",
       "   zelens  zeolite  zeylanicum  zinc  zingiber  zizanioides  zizanoides  \\\n",
       "0     0.0      0.0         0.0   0.0       0.0          0.0         0.0   \n",
       "1     0.0      0.0         0.0   0.0       0.0          0.0         0.0   \n",
       "2     0.0      0.0         0.0   0.0       0.0          0.0         0.0   \n",
       "3     0.0      0.0         0.0   0.0       0.0          0.0         0.0   \n",
       "4     0.0      0.0         0.0   0.0       0.0          0.0         0.0   \n",
       "\n",
       "   zizyphus  zone  \n",
       "0       0.0   0.0  \n",
       "1       0.0   0.0  \n",
       "2       0.0   0.0  \n",
       "3       0.0   0.0  \n",
       "4       0.0   0.0  \n",
       "\n",
       "[5 rows x 3713 columns]"
      ]
     },
     "execution_count": 26,
     "metadata": {},
     "output_type": "execute_result"
    }
   ],
   "source": [
    "tfidf_df.head()"
   ]
  },
  {
   "cell_type": "code",
   "execution_count": 27,
   "metadata": {
    "colab": {
     "base_uri": "https://localhost:8080/",
     "height": 496
    },
    "id": "shlhRW4JFoTK",
    "outputId": "56d9ee92-8cd6-424f-ace9-c4251f8a6110"
   },
   "outputs": [
    {
     "name": "stdout",
     "output_type": "stream",
     "text": [
      "['ordinary', 'natural', 'moisturising', 'factors', '+', 'ha', '30ml', 'moisturiser', '[', \"'capric\", 'triglyceride', \"'\", ',', \"'cetyl\", 'alcohol', \"'\", ',', \"'propanediol\", \"'\", ',', \"'stearyl\", 'alcohol', \"'\", ',', \"'glycerin\", \"'\", ',', \"'sodium\", 'hyaluronate', \"'\", ',', \"'arganine\", \"'\", ',', \"'aspartic\", 'acid', \"'\", ',', \"'glycine\", \"'\", ',', \"'alanine\", \"'\", ',', \"'serine\", \"'\", ',', \"'valine\", \"'\", ',', \"'isoleucine\", \"'\", ',', \"'proline\", \"'\", ',', \"'threonine\", \"'\", ',', \"'histidine\", \"'\", ',', \"'phenylalanine\", \"'\", ',', \"'glucose\", \"'\", ',', \"'maltose\", \"'\", ',', \"'fructose\", \"'\", ',', \"'trehalose\", \"'\", ',', \"'sodium\", 'pca', \"'\", ',', \"'pca\", \"'\", ',', \"'sodium\", 'lactate', \"'\", ',', \"'urea\", \"'\", ',', \"'allantoin\", \"'\", ',', \"'linoleic\", 'acid', \"'\", ',', \"'oleic\", 'acid', \"'\", ',', \"'phytosteryl\", 'canola', 'glycerides', \"'\", ',', \"'palmitic\", 'acid', \"'\", ',', \"'stearic\", 'acid', \"'\", ',', \"'lecithin\", \"'\", ',', \"'triolein\", \"'\", ',', \"'tocopherol\", \"'\", ',', \"'carbomer\", \"'\", ',', \"'isoceteth-20\", \"'\", ',', \"'polysorbate\", '60', \"'\", ',', \"'sodium\", 'chloride', \"'\", ',', \"'citric\", 'acid', \"'\", ',', \"'trisodium\", 'ethylenediamine', 'disuccinate', \"'\", ',', \"'pentylene\", 'glycol', \"'\", ',', \"'triethanolamine\", \"'\", ',', \"'sodium\", 'hydroxide', \"'\", ',', \"'phenoxyethanol\", \"'\", ',', \"'chlorphenesin\", \"'\", ']']\n"
     ]
    },
    {
     "data": {
      "text/plain": [
       "acid       0.246565\n",
       "pca        0.197432\n",
       "factors    0.196617\n",
       "sodium     0.187877\n",
       "maltose    0.182143\n",
       "             ...   \n",
       "10g        0.000000\n",
       "10ml       0.000000\n",
       "11         0.000000\n",
       "113g       0.000000\n",
       "069        0.000000\n",
       "Name: 0, Length: 3713, dtype: float64"
      ]
     },
     "execution_count": 27,
     "metadata": {},
     "output_type": "execute_result"
    }
   ],
   "source": [
    "# Example for skincare #1\n",
    "print(dataset[0])\n",
    "tfidf_df.loc[0].sort_values(ascending=False)"
   ]
  },
  {
   "cell_type": "markdown",
   "metadata": {
    "id": "bpVaYGDybDEQ"
   },
   "source": [
    "**<h2> Teknik Pencarian: Vector Space Model <h2>**"
   ]
  },
  {
   "cell_type": "code",
   "execution_count": 28,
   "metadata": {
    "colab": {
     "base_uri": "https://localhost:8080/"
    },
    "id": "lVcMxz3obISr",
    "outputId": "fe244093-529c-4132-e087-982604da6f46"
   },
   "outputs": [
    {
     "name": "stdout",
     "output_type": "stream",
     "text": [
      "Produk yang relevan dengan query:\n",
      "Produk 1: ['ordinary', 'natural', 'moisturising', 'factors', '+', 'ha', '30ml', 'moisturiser', '[', \"'capric\", 'triglyceride', \"'\", ',', \"'cetyl\", 'alcohol', \"'\", ',', \"'propanediol\", \"'\", ',', \"'stearyl\", 'alcohol', \"'\", ',', \"'glycerin\", \"'\", ',', \"'sodium\", 'hyaluronate', \"'\", ',', \"'arganine\", \"'\", ',', \"'aspartic\", 'acid', \"'\", ',', \"'glycine\", \"'\", ',', \"'alanine\", \"'\", ',', \"'serine\", \"'\", ',', \"'valine\", \"'\", ',', \"'isoleucine\", \"'\", ',', \"'proline\", \"'\", ',', \"'threonine\", \"'\", ',', \"'histidine\", \"'\", ',', \"'phenylalanine\", \"'\", ',', \"'glucose\", \"'\", ',', \"'maltose\", \"'\", ',', \"'fructose\", \"'\", ',', \"'trehalose\", \"'\", ',', \"'sodium\", 'pca', \"'\", ',', \"'pca\", \"'\", ',', \"'sodium\", 'lactate', \"'\", ',', \"'urea\", \"'\", ',', \"'allantoin\", \"'\", ',', \"'linoleic\", 'acid', \"'\", ',', \"'oleic\", 'acid', \"'\", ',', \"'phytosteryl\", 'canola', 'glycerides', \"'\", ',', \"'palmitic\", 'acid', \"'\", ',', \"'stearic\", 'acid', \"'\", ',', \"'lecithin\", \"'\", ',', \"'triolein\", \"'\", ',', \"'tocopherol\", \"'\", ',', \"'carbomer\", \"'\", ',', \"'isoceteth-20\", \"'\", ',', \"'polysorbate\", '60', \"'\", ',', \"'sodium\", 'chloride', \"'\", ',', \"'citric\", 'acid', \"'\", ',', \"'trisodium\", 'ethylenediamine', 'disuccinate', \"'\", ',', \"'pentylene\", 'glycol', \"'\", ',', \"'triethanolamine\", \"'\", ',', \"'sodium\", 'hydroxide', \"'\", ',', \"'phenoxyethanol\", \"'\", ',', \"'chlorphenesin\", \"'\", ']'] (Relevansi: 0.0000)\n",
      "Produk 1138: ['weleda', 'baby', 'calendula', 'cream', 'bath', '(', '200ml', ')', 'bath', 'oil', '[', \"'prunus\", 'amygdalus', 'dulcis', \"'\", ',', \"'sesamium\", 'indicum', 'seed', 'oil', \"'\", ',', \"'alcohol\", \"'\", ',', \"'glycerin\", \"'\", ',', \"'glyceryl\", 'oleate', \"'\", ',', \"'calendula\", 'officinalis', 'extract', \"'\", ',', \"'sodium\", 'cera', 'alba', \"'\", ',', \"'xanthan\", 'gum', \"'\", ',', \"'parfum\", \"'\", ',', \"'limonene\", \"'\", ',', \"'linalool\", \"'\", ']'] (Relevansi: 0.0000)\n",
      "Produk 17: ['weleda', 'skin', 'food', '(', '75ml', ')', 'moisturiser', '[', \"'helianthus\", 'annuus', 'seed', 'oil', \"'\", ',', \"'lanolin\", \"'\", ',', \"'prunus\", 'amygdalus', 'dulcis', \"'\", ',', \"'cera\", 'alba', \"'\", ',', \"'alcohol\", \"'\", ',', \"'polyglyceryl-3\", 'polyricinoleate', \"'\", ',', \"'glycerin\", \"'\", ',', \"'limonene\", \"'\", ',', \"'viola\", 'tricolor', 'extract', \"'\", ',', \"'parfum\", \"'\", ',', \"'hydrolyzed\", 'cera', 'alba', \"'\", ',', \"'sobitan\", 'olivate', \"'\", ',', \"'rosmarinus\", 'officinalis', 'extract', \"'\", ',', \"'chamomilla\", 'recutita', 'flower', 'oil', \"'\", ',', \"'calendula\", 'officinalis', 'extract', \"'\", ',', \"'arganine\", \"'\", ',', \"'zinc\", 'sulfate', \"'\", ',', \"'linalool\", \"'\", ',', \"'geraniol\", \"'\", ',', \"'citral\", \"'\", ',', \"'coumarin\", \"'\", ']'] (Relevansi: 0.0000)\n",
      "Produk 18: ['neutrogena', 'hydro', 'boost', 'city', 'shield', 'spf', 'moisturiser', 'moisturiser', '[', \"'glycerin\", \"'\", ',', \"'homosalate\", \"'\", ',', \"'caprylyl\", 'methicone', \"'\", ',', \"'ethylhexyl\", 'salicylate', \"'\", ',', \"'butyl\", 'methoxydibenzoylmethane', \"'\", ',', \"'phenylbenzimidazole\", 'sulfonic', 'acid', \"'\", ',', \"'octocrylene\", \"'\", ',', \"'sodium\", 'acryloyldimethyltaurate/vp', 'crosspolymer', \"'\", ',', \"'silica\", \"'\", ',', \"'sodium\", 'hyaluronate', \"'\", ',', \"'tocopheryl\", 'acetate', \"'\", ',', \"'dicaprylyl\", 'carbonate', \"'\", ',', \"'glyceryl\", 'stearate', \"'\", ',', \"'steareth-21\", \"'\", ',', \"'sodium\", 'polyacrylate', \"'\", ',', \"'disodium\", 'edta', \"'\", ',', \"'sodium\", 'hydroxide', \"'\", ',', \"'sodium\", 'ascorbyl', 'phosphate', \"'\", ',', \"'tocopherol\", \"'\", ',', \"'benzyl\", 'alcohol', \"'\", ',', \"'chlorphenesin\", \"'\", ',', \"'phenoxyethanol\", \"'\", ',', \"'parfum\", \"'\", ',', \"'ci\", '16035', \"'\", ',', \"'ci\", '42090', \"'\", ']'] (Relevansi: 0.0000)\n",
      "Produk 19: ['egyptian', 'magic', 'purpose', 'skin', 'cream', '118ml/4oz', 'moisturiser', '[', \"'olea\", 'europaea', 'fruit', 'oil', \"'\", ',', \"'cera\", 'alba', \"'\", ',', \"'mel\", \"'\", ',', \"'bee\", 'pollen', \"'\", ',', \"'royal\", 'jelly', \"'\", ',', \"'propolis\", 'extract', \"'\", ']'] (Relevansi: 0.0000)\n"
     ]
    }
   ],
   "source": [
    "from sklearn.metrics.pairwise import cosine_similarity\n",
    "# Query dari pengguna\n",
    "query = input(\"Apa yang kamu cari? \")\n",
    "\n",
    "# Menghapus stopwords pada query\n",
    "cleaned_query = remove_stopwords(query)\n",
    "\n",
    "# Mengubah query ke dalam bentuk vektor TF-IDF\n",
    "query_vector = vectorizer.transform([cleaned_query])\n",
    "\n",
    "# Menghitung cosine similarity antara query dan dataset\n",
    "cosine_similarities = cosine_similarity(query_vector, vectors)\n",
    "\n",
    "# Mengurutkan hasil pencarian berdasarkan cosine similarity\n",
    "sorted_indices = cosine_similarities[0].argsort()[::-1]\n",
    "\n",
    "# Menampilkan hasil pencarian berdasarkan urutan relevansi\n",
    "print(\"Produk yang relevan dengan query:\")\n",
    "for index in sorted_indices[:5]:  # Menampilkan 5 produk teratas\n",
    "    print(f\"Produk {index + 1}: {dataset[index]} (Relevansi: {cosine_similarities[0][index]:.4f})\")"
   ]
  },
  {
   "cell_type": "markdown",
   "metadata": {
    "id": "EX5xJdKlYLkz"
   },
   "source": [
    "###Eval berdasarkan Keseluruhan Dataset"
   ]
  },
  {
   "cell_type": "code",
   "execution_count": 29,
   "metadata": {
    "colab": {
     "base_uri": "https://localhost:8080/"
    },
    "id": "BXLmwFfKhNhA",
    "outputId": "e9924a80-e7eb-415f-b3fa-6049a4ca5cfc"
   },
   "outputs": [
    {
     "name": "stdout",
     "output_type": "stream",
     "text": [
      "Recommended Relevance (>= threshold): [False False False ... False False False]\n",
      "Ground Truth Relevance (>= threshold): [False False False ... False False False]\n",
      "Precision: 0\n",
      "Recall: 0\n",
      "F1-Score: 0\n"
     ]
    }
   ],
   "source": [
    "# Menentukan threshold untuk relevansi\n",
    "threshold_recommend = 0.150\n",
    "threshold_ground_truth = 0.180\n",
    "\n",
    "# Rekomendasi dianggap relevan jika cosine similarity >= threshold\n",
    "recommended_relevance = cosine_similarities[0][sorted_indices] >= threshold_recommend\n",
    "\n",
    "# Ground truth relevansi berdasarkan threshold\n",
    "ground_truth_relevance = cosine_similarities[0][sorted_indices] >= threshold_ground_truth\n",
    "\n",
    "# Print nilai recommended_relevance dan ground_truth_relevance\n",
    "print(\"Recommended Relevance (>= threshold):\", recommended_relevance)\n",
    "print(\"Ground Truth Relevance (>= threshold):\", ground_truth_relevance)\n",
    "\n",
    "# Menghitung True Positives (TP), False Positives (FP), dan False Negatives (FN)\n",
    "tp = np.sum(np.logical_and(recommended_relevance, ground_truth_relevance))  # True Positives\n",
    "fp = np.sum(np.logical_and(recommended_relevance, ~ground_truth_relevance))  # False Positives\n",
    "fn = np.sum(np.logical_and(~recommended_relevance, ground_truth_relevance))  # False Negatives\n",
    "\n",
    "# Menghitung Precision, Recall, dan F1-Score\n",
    "precision = tp / (tp + fp) if (tp + fp) > 0 else 0\n",
    "recall = tp / (tp + fn) if (tp + fn) > 0 else 0\n",
    "f1 = 2 * (precision * recall) / (precision + recall) if (precision + recall) > 0 else 0\n",
    "\n",
    "# Hasil evaluasi\n",
    "print(f\"Precision: {precision}\")\n",
    "print(f\"Recall: {recall}\")\n",
    "print(f\"F1-Score: {f1}\")"
   ]
  },
  {
   "cell_type": "markdown",
   "metadata": {
    "id": "LfKO_e_RYGWX"
   },
   "source": [
    "### Eval berdasarkan 5 teratas"
   ]
  },
  {
   "cell_type": "code",
   "execution_count": 30,
   "metadata": {
    "colab": {
     "base_uri": "https://localhost:8080/"
    },
    "id": "ZQEJSLZvXgMF",
    "outputId": "661503f5-bc2f-448a-d07f-d8139980ba21"
   },
   "outputs": [
    {
     "name": "stdout",
     "output_type": "stream",
     "text": [
      "Recommended Relevance (>= threshold): []\n",
      "Ground Truth Relevance (>= threshold): []\n",
      "Precision: 0\n",
      "Recall: 0\n",
      "F1-Score: 0\n"
     ]
    }
   ],
   "source": [
    "# Menentukan threshold untuk relevansi\n",
    "threshold_recommend = 0.155\n",
    "threshold_ground_truth = 0.180\n",
    "\n",
    "# Rekomendasi dianggap relevan jika cosine similarity >= threshold\n",
    "recommended_relevance = cosine_similarities[0] >= threshold_recommend\n",
    "ground_truth_relevance = cosine_similarities[0] >= threshold_ground_truth\n",
    "\n",
    "# Mengambil indeks produk yang relevan\n",
    "relevant_indices = np.where(recommended_relevance)[0]\n",
    "sorted_indices = np.argsort(-cosine_similarities[0][relevant_indices])[:5]  # Ambil 5 teratas\n",
    "\n",
    "# Hitung TP, FP, dan FN berdasarkan produk teratas yang relevan\n",
    "recommended_relevance_top = recommended_relevance[relevant_indices][sorted_indices]\n",
    "ground_truth_relevance_top = ground_truth_relevance[relevant_indices][sorted_indices]\n",
    "\n",
    "tp = np.sum(np.logical_and(recommended_relevance_top, ground_truth_relevance_top))  # True Positives\n",
    "fp = np.sum(np.logical_and(recommended_relevance_top, ~ground_truth_relevance_top))  # False Positives\n",
    "fn = np.sum(np.logical_and(~recommended_relevance_top, ground_truth_relevance_top))  # False Negatives\n",
    "\n",
    "# Menghitung Precision, Recall, dan F1-Score\n",
    "precision = tp / (tp + fp) if (tp + fp) > 0 else 0\n",
    "recall = tp / (tp + fn) if (tp + fn) > 0 else 0\n",
    "f1 = 2 * (precision * recall) / (precision + recall) if (precision + recall) > 0 else 0\n",
    "\n",
    "# Hasil evaluasi\n",
    "print(f\"Recommended Relevance (>= threshold): {recommended_relevance_top}\")\n",
    "print(f\"Ground Truth Relevance (>= threshold): {ground_truth_relevance_top}\")\n",
    "print(f\"Precision: {precision}\")\n",
    "print(f\"Recall: {recall}\")\n",
    "print(f\"F1-Score: {f1}\")"
   ]
  }
 ],
 "metadata": {
  "colab": {
   "provenance": []
  },
  "kernelspec": {
   "display_name": "Python 3",
   "name": "python3"
  },
  "language_info": {
   "name": "python"
  }
 },
 "nbformat": 4,
 "nbformat_minor": 0
}
